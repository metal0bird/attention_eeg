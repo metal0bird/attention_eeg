{
 "cells": [
  {
   "cell_type": "code",
   "execution_count": 1,
   "metadata": {},
   "outputs": [
    {
     "name": "stdout",
     "output_type": "stream",
     "text": [
      "['/Users/aman/Github bs/datasets/EEG Data/eeg_record7.mat', '/Users/aman/Github bs/datasets/EEG Data/eeg_record6.mat', '/Users/aman/Github bs/datasets/EEG Data/eeg_record4.mat', '/Users/aman/Github bs/datasets/EEG Data/eeg_record5.mat', '/Users/aman/Github bs/datasets/EEG Data/.DS_Store', '/Users/aman/Github bs/datasets/EEG Data/eeg_record1.mat', '/Users/aman/Github bs/datasets/EEG Data/eeg_record2.mat', '/Users/aman/Github bs/datasets/EEG Data/eeg_record3.mat', '/Users/aman/Github bs/datasets/EEG Data/eeg_record16.mat', '/Users/aman/Github bs/datasets/EEG Data/eeg_record17.mat', '/Users/aman/Github bs/datasets/EEG Data/eeg_record15.mat', '/Users/aman/Github bs/datasets/EEG Data/eeg_record29.mat', '/Users/aman/Github bs/datasets/EEG Data/eeg_record28.mat', '/Users/aman/Github bs/datasets/EEG Data/eeg_record14.mat', '/Users/aman/Github bs/datasets/EEG Data/eeg_record10.mat', '/Users/aman/Github bs/datasets/EEG Data/eeg_record11.mat', '/Users/aman/Github bs/datasets/EEG Data/eeg_record13.mat', '/Users/aman/Github bs/datasets/EEG Data/eeg_record12.mat', '/Users/aman/Github bs/datasets/EEG Data/eeg_record23.mat', '/Users/aman/Github bs/datasets/EEG Data/eeg_record22.mat', '/Users/aman/Github bs/datasets/EEG Data/eeg_record20.mat', '/Users/aman/Github bs/datasets/EEG Data/eeg_record34.mat', '/Users/aman/Github bs/datasets/EEG Data/eeg_record21.mat', '/Users/aman/Github bs/datasets/EEG Data/eeg_record19.mat', '/Users/aman/Github bs/datasets/EEG Data/eeg_record25.mat', '/Users/aman/Github bs/datasets/EEG Data/eeg_record31.mat', '/Users/aman/Github bs/datasets/EEG Data/eeg_record30.mat', '/Users/aman/Github bs/datasets/EEG Data/eeg_record24.mat', '/Users/aman/Github bs/datasets/EEG Data/eeg_record18.mat', '/Users/aman/Github bs/datasets/EEG Data/eeg_record32.mat', '/Users/aman/Github bs/datasets/EEG Data/eeg_record26.mat', '/Users/aman/Github bs/datasets/EEG Data/eeg_record27.mat', '/Users/aman/Github bs/datasets/EEG Data/eeg_record33.mat', '/Users/aman/Github bs/datasets/EEG Data/eeg_record8.mat', '/Users/aman/Github bs/datasets/EEG Data/eeg_record9.mat', '/Users/aman/Github bs/datasets/EEG Data/EEG Data/eeg_record7.mat', '/Users/aman/Github bs/datasets/EEG Data/EEG Data/eeg_record6.mat', '/Users/aman/Github bs/datasets/EEG Data/EEG Data/eeg_record4.mat', '/Users/aman/Github bs/datasets/EEG Data/EEG Data/eeg_record5.mat', '/Users/aman/Github bs/datasets/EEG Data/EEG Data/eeg_record1.mat', '/Users/aman/Github bs/datasets/EEG Data/EEG Data/eeg_record2.mat', '/Users/aman/Github bs/datasets/EEG Data/EEG Data/eeg_record3.mat', '/Users/aman/Github bs/datasets/EEG Data/EEG Data/eeg_record16.mat', '/Users/aman/Github bs/datasets/EEG Data/EEG Data/eeg_record17.mat', '/Users/aman/Github bs/datasets/EEG Data/EEG Data/eeg_record15.mat', '/Users/aman/Github bs/datasets/EEG Data/EEG Data/eeg_record29.mat', '/Users/aman/Github bs/datasets/EEG Data/EEG Data/eeg_record28.mat', '/Users/aman/Github bs/datasets/EEG Data/EEG Data/eeg_record14.mat', '/Users/aman/Github bs/datasets/EEG Data/EEG Data/eeg_record10.mat', '/Users/aman/Github bs/datasets/EEG Data/EEG Data/eeg_record11.mat', '/Users/aman/Github bs/datasets/EEG Data/EEG Data/eeg_record13.mat', '/Users/aman/Github bs/datasets/EEG Data/EEG Data/eeg_record12.mat', '/Users/aman/Github bs/datasets/EEG Data/EEG Data/eeg_record23.mat', '/Users/aman/Github bs/datasets/EEG Data/EEG Data/eeg_record22.mat', '/Users/aman/Github bs/datasets/EEG Data/EEG Data/eeg_record20.mat', '/Users/aman/Github bs/datasets/EEG Data/EEG Data/eeg_record34.mat', '/Users/aman/Github bs/datasets/EEG Data/EEG Data/eeg_record21.mat', '/Users/aman/Github bs/datasets/EEG Data/EEG Data/eeg_record19.mat', '/Users/aman/Github bs/datasets/EEG Data/EEG Data/eeg_record25.mat', '/Users/aman/Github bs/datasets/EEG Data/EEG Data/eeg_record31.mat', '/Users/aman/Github bs/datasets/EEG Data/EEG Data/eeg_record30.mat', '/Users/aman/Github bs/datasets/EEG Data/EEG Data/eeg_record24.mat', '/Users/aman/Github bs/datasets/EEG Data/EEG Data/eeg_record18.mat', '/Users/aman/Github bs/datasets/EEG Data/EEG Data/eeg_record32.mat', '/Users/aman/Github bs/datasets/EEG Data/EEG Data/eeg_record26.mat', '/Users/aman/Github bs/datasets/EEG Data/EEG Data/eeg_record27.mat', '/Users/aman/Github bs/datasets/EEG Data/EEG Data/eeg_record33.mat', '/Users/aman/Github bs/datasets/EEG Data/EEG Data/eeg_record8.mat', '/Users/aman/Github bs/datasets/EEG Data/EEG Data/eeg_record9.mat']\n"
     ]
    }
   ],
   "source": [
    "import numpy as np # linear algebra\n",
    "import pandas as pd # data processing\n",
    "import scipy.io\n",
    "import matplotlib.pyplot as plt\n",
    "import os\n",
    "from scipy import signal\n",
    "from scipy.fft import fft, fftshift\n",
    "\n",
    "# Input data files are available in the read-only \"../input/\" directory\n",
    "# For example, running this (by clicking run or pressing Shift+Enter) will list all files under the input directory\n",
    "\n",
    "file_names=[]\n",
    "for dirname, _, filenames in os.walk('/Users/aman/Github bs/datasets/EEG Data/'):\n",
    "    for filename in filenames:\n",
    "        file_names.append(os.path.join(dirname, filename))\n",
    "        #print(os.path.join(dirname, filename))\n",
    "        \n",
    "print(file_names)\n",
    "# each trial is about 54 mins\n"
   ]
  },
  {
   "cell_type": "code",
   "execution_count": 2,
   "metadata": {},
   "outputs": [],
   "source": [
    "# build 5 order high pass filter\n",
    "from scipy.signal import butter, lfilter, freqz   \n",
    "# ----- ----- ----- -----    \n",
    "def butter_highpass(cutoff, fs, order=5):\n",
    "    nyq = 0.5 * fs\n",
    "    normal_cutoff = cutoff / nyq\n",
    "    b, a = signal.butter(order, normal_cutoff, btype='high', analog=False)\n",
    "    return b, a\n",
    "\n",
    "def butter_highpass_filter(data, cutoff, fs, order=5):\n",
    "    b, a = butter_highpass(cutoff, fs, order=order)\n",
    "    x = signal.filtfilt(b, a, data)\n",
    "    y = signal.filtfilt(b, a, x)\n",
    "    return y\n"
   ]
  },
  {
   "cell_type": "code",
   "execution_count": 3,
   "metadata": {},
   "outputs": [],
   "source": [
    "marker=128*60*10\n",
    "#delete file #28 and 14 because it doesnot have enough data\n",
    "useful_file_index = [3,4,5,6,7,10,11,12,13,17,18,19,20,21,24,25,26,27,31,32,33,34]\n",
    "#useful_file_index = np.arange(1,35)\n",
    "useful_channels=[4,5,8,9,10,11,16]\n",
    "useful_channels_names=['F7','F3','P7','O1','O2','P8','AF4']\n",
    "chan_num=7\n",
    "trail_names=[]\n",
    "data_focus={}\n",
    "data_unfocus={}\n",
    "data_drowsy={}\n",
    "focus={}\n",
    "unfocus={}\n",
    "drowsy={}\n",
    "#for i in useful_file_index:\n",
    "i=1\n",
    "for index,filename in enumerate(filenames):\n",
    "    if int(filename.split('d')[1].split('.')[0]) in useful_file_index:\n",
    "        mat = scipy.io.loadmat(file_names[index])\n",
    "        trail_names.append(filename.split('.')[0])\n",
    "        data_focus[trail_names[-1]]=mat['o']['data'][0,0][0:marker,useful_channels].copy()\n",
    "        data_unfocus[trail_names[-1]]=mat['o']['data'][0,0][marker:2*marker,useful_channels].copy()\n",
    "        data_drowsy[trail_names[-1]]=mat['o']['data'][0,0][2*marker:3*marker,useful_channels].copy()\n",
    "        focus[trail_names[-1]]=mat['o']['data'][0,0][0:marker,useful_channels].copy()\n",
    "        unfocus[trail_names[-1]]=mat['o']['data'][0,0][marker:2*marker,useful_channels].copy()\n",
    "        drowsy[trail_names[-1]]=mat['o']['data'][0,0][2*marker:3*marker,useful_channels].copy()"
   ]
  },
  {
   "cell_type": "code",
   "execution_count": 12,
   "metadata": {},
   "outputs": [
    {
     "name": "stdout",
     "output_type": "stream",
     "text": [
      "(76800, 7)\n"
     ]
    }
   ],
   "source": [
    "type(data_focus['eeg_record3'])\n",
    "print(data_focus['eeg_record3'].shape)"
   ]
  },
  {
   "cell_type": "code",
   "execution_count": 13,
   "metadata": {},
   "outputs": [
    {
     "name": "stdout",
     "output_type": "stream",
     "text": [
      "['eeg_record7', 'eeg_record6', 'eeg_record4', 'eeg_record5', 'eeg_record3', 'eeg_record17', 'eeg_record10', 'eeg_record11', 'eeg_record13', 'eeg_record12', 'eeg_record20', 'eeg_record34', 'eeg_record21', 'eeg_record19', 'eeg_record25', 'eeg_record31', 'eeg_record24', 'eeg_record18', 'eeg_record32', 'eeg_record26', 'eeg_record27', 'eeg_record33']\n"
     ]
    }
   ],
   "source": [
    "print(trail_names)"
   ]
  },
  {
   "cell_type": "code",
   "execution_count": 4,
   "metadata": {},
   "outputs": [],
   "source": [
    "# High Pass 0.16HZ\n",
    "row, col = data_focus['eeg_record3'].shape\n",
    "for name in trail_names:\n",
    "    for i in range(col):\n",
    "        data_focus[name][:,i]=butter_highpass_filter(data_focus[name][:,i], 0.16, 128, 5)\n",
    "        data_unfocus[name][:,i]=butter_highpass_filter(data_unfocus[name][:,i], 0.16, 128, 5)\n",
    "        data_drowsy[name][:,i]=butter_highpass_filter(data_drowsy[name][:,i], 0.16, 128, 5)\n",
    "        #print(name,data_drowsy[name][:,i].shape)"
   ]
  },
  {
   "cell_type": "code",
   "execution_count": 15,
   "metadata": {},
   "outputs": [
    {
     "name": "stdout",
     "output_type": "stream",
     "text": [
      "(76800, 7)\n"
     ]
    }
   ],
   "source": [
    "type(data_focus['eeg_record3'])\n",
    "print(data_focus['eeg_record3'].shape)"
   ]
  },
  {
   "cell_type": "code",
   "execution_count": 5,
   "metadata": {},
   "outputs": [
    {
     "data": {
      "text/plain": [
       "['F7_0.5',\n",
       " 'F7_1.0',\n",
       " 'F7_1.5',\n",
       " 'F7_2.0',\n",
       " 'F7_2.5',\n",
       " 'F7_3.0',\n",
       " 'F7_3.5',\n",
       " 'F7_4.0',\n",
       " 'F7_4.5',\n",
       " 'F7_5.0',\n",
       " 'F7_5.5',\n",
       " 'F7_6.0',\n",
       " 'F7_6.5',\n",
       " 'F7_7.0',\n",
       " 'F7_7.5',\n",
       " 'F7_8.0',\n",
       " 'F7_8.5',\n",
       " 'F7_9.0',\n",
       " 'F7_9.5',\n",
       " 'F7_10.0',\n",
       " 'F7_10.5',\n",
       " 'F7_11.0',\n",
       " 'F7_11.5',\n",
       " 'F7_12.0',\n",
       " 'F7_12.5',\n",
       " 'F7_13.0',\n",
       " 'F7_13.5',\n",
       " 'F7_14.0',\n",
       " 'F7_14.5',\n",
       " 'F7_15.0',\n",
       " 'F7_15.5',\n",
       " 'F7_16.0',\n",
       " 'F7_16.5',\n",
       " 'F7_17.0',\n",
       " 'F7_17.5',\n",
       " 'F7_18.0',\n",
       " 'F3_0.5',\n",
       " 'F3_1.0',\n",
       " 'F3_1.5',\n",
       " 'F3_2.0',\n",
       " 'F3_2.5',\n",
       " 'F3_3.0',\n",
       " 'F3_3.5',\n",
       " 'F3_4.0',\n",
       " 'F3_4.5',\n",
       " 'F3_5.0',\n",
       " 'F3_5.5',\n",
       " 'F3_6.0',\n",
       " 'F3_6.5',\n",
       " 'F3_7.0',\n",
       " 'F3_7.5',\n",
       " 'F3_8.0',\n",
       " 'F3_8.5',\n",
       " 'F3_9.0',\n",
       " 'F3_9.5',\n",
       " 'F3_10.0',\n",
       " 'F3_10.5',\n",
       " 'F3_11.0',\n",
       " 'F3_11.5',\n",
       " 'F3_12.0',\n",
       " 'F3_12.5',\n",
       " 'F3_13.0',\n",
       " 'F3_13.5',\n",
       " 'F3_14.0',\n",
       " 'F3_14.5',\n",
       " 'F3_15.0',\n",
       " 'F3_15.5',\n",
       " 'F3_16.0',\n",
       " 'F3_16.5',\n",
       " 'F3_17.0',\n",
       " 'F3_17.5',\n",
       " 'F3_18.0',\n",
       " 'P7_0.5',\n",
       " 'P7_1.0',\n",
       " 'P7_1.5',\n",
       " 'P7_2.0',\n",
       " 'P7_2.5',\n",
       " 'P7_3.0',\n",
       " 'P7_3.5',\n",
       " 'P7_4.0',\n",
       " 'P7_4.5',\n",
       " 'P7_5.0',\n",
       " 'P7_5.5',\n",
       " 'P7_6.0',\n",
       " 'P7_6.5',\n",
       " 'P7_7.0',\n",
       " 'P7_7.5',\n",
       " 'P7_8.0',\n",
       " 'P7_8.5',\n",
       " 'P7_9.0',\n",
       " 'P7_9.5',\n",
       " 'P7_10.0',\n",
       " 'P7_10.5',\n",
       " 'P7_11.0',\n",
       " 'P7_11.5',\n",
       " 'P7_12.0',\n",
       " 'P7_12.5',\n",
       " 'P7_13.0',\n",
       " 'P7_13.5',\n",
       " 'P7_14.0',\n",
       " 'P7_14.5',\n",
       " 'P7_15.0',\n",
       " 'P7_15.5',\n",
       " 'P7_16.0',\n",
       " 'P7_16.5',\n",
       " 'P7_17.0',\n",
       " 'P7_17.5',\n",
       " 'P7_18.0',\n",
       " 'O1_0.5',\n",
       " 'O1_1.0',\n",
       " 'O1_1.5',\n",
       " 'O1_2.0',\n",
       " 'O1_2.5',\n",
       " 'O1_3.0',\n",
       " 'O1_3.5',\n",
       " 'O1_4.0',\n",
       " 'O1_4.5',\n",
       " 'O1_5.0',\n",
       " 'O1_5.5',\n",
       " 'O1_6.0',\n",
       " 'O1_6.5',\n",
       " 'O1_7.0',\n",
       " 'O1_7.5',\n",
       " 'O1_8.0',\n",
       " 'O1_8.5',\n",
       " 'O1_9.0',\n",
       " 'O1_9.5',\n",
       " 'O1_10.0',\n",
       " 'O1_10.5',\n",
       " 'O1_11.0',\n",
       " 'O1_11.5',\n",
       " 'O1_12.0',\n",
       " 'O1_12.5',\n",
       " 'O1_13.0',\n",
       " 'O1_13.5',\n",
       " 'O1_14.0',\n",
       " 'O1_14.5',\n",
       " 'O1_15.0',\n",
       " 'O1_15.5',\n",
       " 'O1_16.0',\n",
       " 'O1_16.5',\n",
       " 'O1_17.0',\n",
       " 'O1_17.5',\n",
       " 'O1_18.0',\n",
       " 'O2_0.5',\n",
       " 'O2_1.0',\n",
       " 'O2_1.5',\n",
       " 'O2_2.0',\n",
       " 'O2_2.5',\n",
       " 'O2_3.0',\n",
       " 'O2_3.5',\n",
       " 'O2_4.0',\n",
       " 'O2_4.5',\n",
       " 'O2_5.0',\n",
       " 'O2_5.5',\n",
       " 'O2_6.0',\n",
       " 'O2_6.5',\n",
       " 'O2_7.0',\n",
       " 'O2_7.5',\n",
       " 'O2_8.0',\n",
       " 'O2_8.5',\n",
       " 'O2_9.0',\n",
       " 'O2_9.5',\n",
       " 'O2_10.0',\n",
       " 'O2_10.5',\n",
       " 'O2_11.0',\n",
       " 'O2_11.5',\n",
       " 'O2_12.0',\n",
       " 'O2_12.5',\n",
       " 'O2_13.0',\n",
       " 'O2_13.5',\n",
       " 'O2_14.0',\n",
       " 'O2_14.5',\n",
       " 'O2_15.0',\n",
       " 'O2_15.5',\n",
       " 'O2_16.0',\n",
       " 'O2_16.5',\n",
       " 'O2_17.0',\n",
       " 'O2_17.5',\n",
       " 'O2_18.0',\n",
       " 'P8_0.5',\n",
       " 'P8_1.0',\n",
       " 'P8_1.5',\n",
       " 'P8_2.0',\n",
       " 'P8_2.5',\n",
       " 'P8_3.0',\n",
       " 'P8_3.5',\n",
       " 'P8_4.0',\n",
       " 'P8_4.5',\n",
       " 'P8_5.0',\n",
       " 'P8_5.5',\n",
       " 'P8_6.0',\n",
       " 'P8_6.5',\n",
       " 'P8_7.0',\n",
       " 'P8_7.5',\n",
       " 'P8_8.0',\n",
       " 'P8_8.5',\n",
       " 'P8_9.0',\n",
       " 'P8_9.5',\n",
       " 'P8_10.0',\n",
       " 'P8_10.5',\n",
       " 'P8_11.0',\n",
       " 'P8_11.5',\n",
       " 'P8_12.0',\n",
       " 'P8_12.5',\n",
       " 'P8_13.0',\n",
       " 'P8_13.5',\n",
       " 'P8_14.0',\n",
       " 'P8_14.5',\n",
       " 'P8_15.0',\n",
       " 'P8_15.5',\n",
       " 'P8_16.0',\n",
       " 'P8_16.5',\n",
       " 'P8_17.0',\n",
       " 'P8_17.5',\n",
       " 'P8_18.0',\n",
       " 'AF4_0.5',\n",
       " 'AF4_1.0',\n",
       " 'AF4_1.5',\n",
       " 'AF4_2.0',\n",
       " 'AF4_2.5',\n",
       " 'AF4_3.0',\n",
       " 'AF4_3.5',\n",
       " 'AF4_4.0',\n",
       " 'AF4_4.5',\n",
       " 'AF4_5.0',\n",
       " 'AF4_5.5',\n",
       " 'AF4_6.0',\n",
       " 'AF4_6.5',\n",
       " 'AF4_7.0',\n",
       " 'AF4_7.5',\n",
       " 'AF4_8.0',\n",
       " 'AF4_8.5',\n",
       " 'AF4_9.0',\n",
       " 'AF4_9.5',\n",
       " 'AF4_10.0',\n",
       " 'AF4_10.5',\n",
       " 'AF4_11.0',\n",
       " 'AF4_11.5',\n",
       " 'AF4_12.0',\n",
       " 'AF4_12.5',\n",
       " 'AF4_13.0',\n",
       " 'AF4_13.5',\n",
       " 'AF4_14.0',\n",
       " 'AF4_14.5',\n",
       " 'AF4_15.0',\n",
       " 'AF4_15.5',\n",
       " 'AF4_16.0',\n",
       " 'AF4_16.5',\n",
       " 'AF4_17.0',\n",
       " 'AF4_17.5',\n",
       " 'AF4_18.0']"
      ]
     },
     "execution_count": 5,
     "metadata": {},
     "output_type": "execute_result"
    }
   ],
   "source": [
    "feature_names = []\n",
    "freq_range=np.arange(0.5,18.5,0.5)\n",
    "symb='_'\n",
    "#useful_channels_names=['F7','F3','P7','O1','O2','P8','AF4']\n",
    "for index,channel in enumerate(useful_channels_names):\n",
    "    for freq in freq_range:\n",
    "        feature_names.append(channel+symb+str(freq))\n",
    "feature_names"
   ]
  },
  {
   "cell_type": "code",
   "execution_count": 6,
   "metadata": {},
   "outputs": [],
   "source": [
    "# STFT was then calculated at a time step of 1 s producing a set of time-varying DFT \n",
    "# amplitudes X STFT (t,ω) at 1s intervals within each input EEG channel.\n",
    "t_win = np.arange(0,128)\n",
    "M = 128\n",
    "window_blackman=0.42-0.5*np.cos((2*np.pi*t_win)/(M-1))+0.08*np.cos((4*np.pi*t_win)/(M-1)) #window_blackman = signal.windows.blackmanharris(128)\n",
    "\n",
    "#col is 7\n",
    "power_focus = {}\n",
    "for name in trail_names:\n",
    "    power_focus[name]=np.zeros([col,513,601])\n",
    "    \n",
    "power_unfocus = {}\n",
    "for name in trail_names:\n",
    "    power_unfocus[name]=np.zeros([col,513,601])\n",
    "    \n",
    "power_drowsy = {}\n",
    "for name in trail_names:\n",
    "    power_drowsy[name]=np.zeros([col,513,601])\n",
    "\n",
    "#the output of the stft is 513*601,1 second data will produce 1 column of data,there are 601\n",
    "for name in trail_names:\n",
    "    for i in range(col):\n",
    "        f, t,y1=scipy.signal.stft(data_focus[name][:,i],fs=128, window=window_blackman, nperseg=128, \n",
    "                      noverlap=0, nfft=1024, detrend=False,return_onesided=True, boundary='zeros',\n",
    "                      padded=True)\n",
    "        f, t,y2=scipy.signal.stft(data_unfocus[name][:,i],fs=128, window=window_blackman, nperseg=128, \n",
    "                      noverlap=0, nfft=1024, detrend=False,return_onesided=True, boundary='zeros',\n",
    "                      padded=True)\n",
    "        f, t,y3=scipy.signal.stft(data_drowsy[name][:,i],fs=128, window=window_blackman, nperseg=128, \n",
    "                      noverlap=0, nfft=1024, detrend=False,return_onesided=True, boundary='zeros',\n",
    "                      padded=True)\n",
    "        power_focus[name][i,:,:]=(np.abs(y1))**2\n",
    "        power_unfocus[name][i,:,:]=(np.abs(y2))**2\n",
    "        power_drowsy[name][i,:,:]=(np.abs(y3))**2\n",
    "\n"
   ]
  },
  {
   "cell_type": "code",
   "execution_count": 18,
   "metadata": {},
   "outputs": [
    {
     "name": "stdout",
     "output_type": "stream",
     "text": [
      "(7, 513, 601)\n"
     ]
    }
   ],
   "source": [
    "type(power_drowsy['eeg_record3'])\n",
    "print(power_drowsy['eeg_record3'].shape)"
   ]
  },
  {
   "cell_type": "code",
   "execution_count": 7,
   "metadata": {},
   "outputs": [],
   "source": [
    "# combine bins into 0.5HZ, and keep 0-18 HZ.\n",
    "\n",
    "num=[]\n",
    "\n",
    "power_focus_bin = {}\n",
    "for name in trail_names:\n",
    "    power_focus_bin[name]=np.zeros([7,36,601])\n",
    "    \n",
    "power_unfocus_bin = {}\n",
    "for name in trail_names:\n",
    "    power_unfocus_bin[name]=np.zeros([7,36,601])\n",
    "    \n",
    "power_drowsy_bin = {}\n",
    "for name in trail_names:\n",
    "    power_drowsy_bin[name]=np.zeros([7,36,601])\n",
    "\n",
    "for name in trail_names:\n",
    "    for chn in range(col):\n",
    "        j=0\n",
    "        for i in range(1,144,4):\n",
    "            power_focus_bin[name][chn,j,:]=np.average(power_focus[name][chn,i:i+4,:],axis=0)\n",
    "            power_unfocus_bin[name][chn,j,:]=np.average(power_unfocus[name][chn,i:i+4,:],axis=0)\n",
    "            power_drowsy_bin[name][chn,j,:]=np.average(power_drowsy[name][chn,i:i+4,:],axis=0)\n",
    "            #print(np.average(power_drowsy[name][chn,i:i+4,:],axis=0).shape)\n",
    "            #if name=='eeg_record3':\n",
    "            #    if chn==0:\n",
    "            #        num.append((f[i:i+4]))\n",
    "            #    print(j)\n",
    "            j=j+1\n",
    "            \n",
    "#print(num)    \n",
    "#print(len(num))"
   ]
  },
  {
   "cell_type": "code",
   "execution_count": 20,
   "metadata": {},
   "outputs": [
    {
     "name": "stdout",
     "output_type": "stream",
     "text": [
      "(7, 36, 601)\n"
     ]
    }
   ],
   "source": [
    "type(power_drowsy_bin['eeg_record3'])\n",
    "print(power_drowsy_bin['eeg_record3'].shape)"
   ]
  },
  {
   "cell_type": "code",
   "execution_count": 8,
   "metadata": {},
   "outputs": [],
   "source": [
    "# avarage over 15 seconds running window.\n",
    "\n",
    "power_focus_ave = {}\n",
    "for name in trail_names:\n",
    "    power_focus_ave[name]=np.zeros([7,36,585])\n",
    "    \n",
    "power_unfocus_ave = {}\n",
    "for name in trail_names:\n",
    "    power_unfocus_ave[name]=np.zeros([7,36,585])\n",
    "    \n",
    "power_drowsy_ave = {}\n",
    "for name in trail_names:\n",
    "    power_drowsy_ave[name]=np.zeros([7,36,585])\n",
    "\n",
    "for name in trail_names:\n",
    "    for chn in range(col):\n",
    "        j=0\n",
    "        for k in range(0,585):\n",
    "            power_focus_ave[name][chn,:,j]=np.average(power_focus_bin[name][chn,:,k:k+15],axis=1)\n",
    "            power_unfocus_ave[name][chn,:,j]=np.average(power_unfocus_bin[name][chn,:,k:k+15],axis=1)\n",
    "            power_drowsy_ave[name][chn,:,j]=np.average(power_drowsy_bin[name][chn,:,k:k+15],axis=1)\n",
    "            #print(np.average(power_drowsy_bin[name][chn,:,k:k+15],axis=1).shape)\n",
    "            j=j+1"
   ]
  },
  {
   "cell_type": "code",
   "execution_count": 22,
   "metadata": {},
   "outputs": [
    {
     "name": "stdout",
     "output_type": "stream",
     "text": [
      "(7, 36, 585)\n"
     ]
    }
   ],
   "source": [
    "type(power_drowsy_ave['eeg_record3'])\n",
    "print(power_drowsy_ave['eeg_record3'].shape)"
   ]
  },
  {
   "cell_type": "code",
   "execution_count": 9,
   "metadata": {},
   "outputs": [],
   "source": [
    "# Turn the data into a vector \n",
    "#[252,585]\n",
    "\n",
    "svm_focus = {}\n",
    "for name in trail_names:\n",
    "    svm_focus[name]=np.zeros([252,585])\n",
    "    \n",
    "svm_unfocus = {}\n",
    "for name in trail_names:\n",
    "    svm_unfocus[name]=np.zeros([252,585])\n",
    "    \n",
    "svm_drowsy = {}\n",
    "for name in trail_names:\n",
    "    svm_drowsy[name]=np.zeros([252,585])\n",
    "\n",
    "for name in trail_names:\n",
    "    for j in range(585):      \n",
    "        svm_focus[name][:,j]=power_focus_ave[name][:,:,j].reshape(1,-1)\n",
    "        svm_unfocus[name][:,j]=power_unfocus_ave[name][:,:,j].reshape(1,-1)\n",
    "        svm_drowsy[name][:,j]=power_drowsy_ave[name][:,:,j].reshape(1,-1)\n",
    "    svm_focus[name]=10*np.log(svm_focus[name])\n",
    "    svm_unfocus[name]=10*np.log(svm_unfocus[name])\n",
    "    svm_drowsy[name]=10*np.log(svm_drowsy[name])\n",
    "# now, we get the svm vector 252*585 252 rows\n"
   ]
  },
  {
   "cell_type": "code",
   "execution_count": 83,
   "metadata": {},
   "outputs": [
    {
     "name": "stdout",
     "output_type": "stream",
     "text": [
      "(252, 585)\n"
     ]
    }
   ],
   "source": [
    "type(svm_focus['eeg_record3'])\n",
    "print(svm_focus['eeg_record3'].shape)\n"
   ]
  },
  {
   "cell_type": "markdown",
   "metadata": {},
   "source": [
    "Using PCA first then SVC, labeling the data into 3 classes."
   ]
  },
  {
   "cell_type": "markdown",
   "metadata": {},
   "source": [
    "focused -- 2\n",
    "unfocused -- 1\n",
    "drowsy -- 0\n"
   ]
  },
  {
   "cell_type": "code",
   "execution_count": 10,
   "metadata": {},
   "outputs": [],
   "source": [
    "#--------0\n",
    "label_focus = [0]*585\n",
    "#--------1\n",
    "label_unfocus = [1]*585\n",
    "#--------2\n",
    "label_drowsy = [2]*585\n",
    "\n",
    "#subject is the variable for all participants\n",
    "\n",
    "subj1_files={'eeg_record3','eeg_record4','eeg_record5','eeg_record6','eeg_record7'}\n",
    "subj2_files={'eeg_record10','eeg_record11','eeg_record12','eeg_record13'}\n",
    "subj3_files={'eeg_record17','eeg_record18','eeg_record19','eeg_record20','eeg_record21'}\n",
    "subj4_files={'eeg_record24','eeg_record25','eeg_record26','eeg_record27'}\n",
    "subj5_files={'eeg_record31','eeg_record32','eeg_record33','eeg_record34'}\n"
   ]
  },
  {
   "cell_type": "code",
   "execution_count": 26,
   "metadata": {},
   "outputs": [
    {
     "data": {
      "text/plain": [
       "array([[38.77161708, 38.07711059, 34.24749235, ..., 31.98477085,\n",
       "        30.62809224, 32.66528669],\n",
       "       [40.74957912, 40.30613215, 38.04363382, ..., 30.1867528 ,\n",
       "        28.66557901, 30.5413772 ],\n",
       "       [40.5009797 , 40.18623662, 38.7811119 , ..., 27.3918812 ,\n",
       "        25.79341617, 27.22435716],\n",
       "       ...,\n",
       "       [-4.86491015, -5.45160453, -3.32511895, ..., -1.88315727,\n",
       "        -1.87277832, -1.94374841],\n",
       "       [-6.4999323 , -6.94835025, -4.50868256, ..., -2.97233387,\n",
       "        -3.12943228, -2.60578367],\n",
       "       [-7.86382157, -8.18681765, -5.73174017, ..., -4.79683543,\n",
       "        -4.82842869, -3.92715176]])"
      ]
     },
     "execution_count": 26,
     "metadata": {},
     "output_type": "execute_result"
    }
   ],
   "source": [
    "svm_focus['eeg_record10']"
   ]
  },
  {
   "cell_type": "code",
   "execution_count": 27,
   "metadata": {},
   "outputs": [
    {
     "data": {
      "text/plain": [
       "(252,)"
      ]
     },
     "execution_count": 27,
     "metadata": {},
     "output_type": "execute_result"
    }
   ],
   "source": [
    "svm_focus['eeg_record10'][:,0].shape"
   ]
  },
  {
   "cell_type": "code",
   "execution_count": 11,
   "metadata": {},
   "outputs": [],
   "source": [
    "# I will try to use the data from all participants to train the model\n",
    "target=[]\n",
    "subj=np.array([]).reshape(252,0).copy()\n",
    "for name in trail_names:\n",
    "    subj=np.concatenate((subj,svm_focus[name]), axis=1)\n",
    "    subj=np.concatenate((subj,svm_unfocus[name]), axis=1)\n",
    "    subj=np.concatenate((subj,svm_drowsy[name]), axis=1)  \n",
    "    target = target+label_focus+label_unfocus+label_drowsy\n",
    "subj=subj.T\n",
    "target = np.array(target)"
   ]
  },
  {
   "cell_type": "code",
   "execution_count": 50,
   "metadata": {},
   "outputs": [
    {
     "data": {
      "text/plain": [
       "(38610, 252)"
      ]
     },
     "execution_count": 50,
     "metadata": {},
     "output_type": "execute_result"
    }
   ],
   "source": [
    "subj.shape"
   ]
  },
  {
   "cell_type": "code",
   "execution_count": 49,
   "metadata": {},
   "outputs": [
    {
     "data": {
      "text/plain": [
       "(38610,)"
      ]
     },
     "execution_count": 49,
     "metadata": {},
     "output_type": "execute_result"
    }
   ],
   "source": [
    "target.shape"
   ]
  },
  {
   "cell_type": "code",
   "execution_count": 12,
   "metadata": {},
   "outputs": [
    {
     "name": "stdout",
     "output_type": "stream",
     "text": [
      "length of the target: 38610\n",
      "the shape of the data from the subject1: (38610, 252)\n"
     ]
    }
   ],
   "source": [
    "print('length of the target:',len(target))\n",
    "print('the shape of the data from the subject1:', subj.shape)"
   ]
  },
  {
   "cell_type": "code",
   "execution_count": 13,
   "metadata": {},
   "outputs": [],
   "source": [
    "# This part I only train the data for subject1\n",
    "target1=[]\n",
    "subj1=np.array([]).reshape(252,0).copy()\n",
    "for name in subj1_files:\n",
    "    subj1=np.concatenate((subj1,svm_focus[name]), axis=1)\n",
    "    subj1=np.concatenate((subj1,svm_unfocus[name]), axis=1)\n",
    "    subj1=np.concatenate((subj1,svm_drowsy[name]), axis=1)  \n",
    "    target1 = target1+label_focus+label_unfocus+label_drowsy\n",
    "subj1=subj1.T\n",
    "target1 = np.array(target1)"
   ]
  },
  {
   "cell_type": "code",
   "execution_count": 16,
   "metadata": {},
   "outputs": [
    {
     "name": "stdout",
     "output_type": "stream",
     "text": [
      "(8775, 252)\n",
      "8775\n"
     ]
    }
   ],
   "source": [
    "print(subj1.shape)\n",
    "print(len(target1))"
   ]
  },
  {
   "cell_type": "code",
   "execution_count": 17,
   "metadata": {},
   "outputs": [
    {
     "name": "stdout",
     "output_type": "stream",
     "text": [
      "[0 0 0 ... 2 2 2]\n"
     ]
    }
   ],
   "source": [
    "print(target1)"
   ]
  },
  {
   "cell_type": "code",
   "execution_count": 14,
   "metadata": {},
   "outputs": [],
   "source": [
    "#for subject 2\n",
    "target2=[]\n",
    "subj2=np.array([]).reshape(252,0).copy()\n",
    "for name in subj2_files:\n",
    "    subj2=np.concatenate((subj2,svm_focus[name]), axis=1)\n",
    "    subj2=np.concatenate((subj2,svm_unfocus[name]), axis=1)\n",
    "    subj2=np.concatenate((subj2,svm_drowsy[name]), axis=1)  \n",
    "    target2 = target2+label_focus+label_unfocus+label_drowsy\n",
    "subj2=subj2.T\n",
    "target2 = np.array(target2)"
   ]
  },
  {
   "cell_type": "code",
   "execution_count": null,
   "metadata": {},
   "outputs": [],
   "source": [
    "print(subj1)"
   ]
  },
  {
   "cell_type": "code",
   "execution_count": 19,
   "metadata": {},
   "outputs": [
    {
     "name": "stdout",
     "output_type": "stream",
     "text": [
      "The Score for Training data with SVM Model for subject1: 0.9566951566951567\n",
      "Score of For Test data with SVM Model for subject1 : 0.9196581196581196\n"
     ]
    }
   ],
   "source": [
    "# Train the data from subject1\n",
    "from sklearn.model_selection import train_test_split\n",
    "from sklearn import preprocessing\n",
    "from sklearn.svm import SVC\n",
    "\n",
    "data_train, data_test, data_train_target, data_test_target = train_test_split(subj1, target1, test_size=0.8, random_state=0)\n",
    "scaler = preprocessing.StandardScaler().fit(data_train)\n",
    "X_train_scaled = scaler.transform(data_train)\n",
    "X_test_scaled = scaler.transform(data_test)\n",
    "\n",
    "svc = SVC(kernel='rbf')\n",
    "svc.fit(X_train_scaled,data_train_target)\n",
    "print(f'The Score for Training data with SVM Model for subject1:',svc.score(X_train_scaled,data_train_target))\n",
    "print(f'Score of For Test data with SVM Model for subject1 : {svc.score(X_test_scaled,data_test_target)}')"
   ]
  },
  {
   "cell_type": "code",
   "execution_count": 25,
   "metadata": {},
   "outputs": [
    {
     "name": "stdout",
     "output_type": "stream",
     "text": [
      "The Score for Training data with SVM Model for subject1: 0.9327462660795994\n",
      "Score of For Test data with SVM Model for subject1 : 0.9058349058349059\n"
     ]
    }
   ],
   "source": [
    "# Train the data from subject1\n",
    "from sklearn.model_selection import train_test_split\n",
    "from sklearn import preprocessing\n",
    "from sklearn.svm import SVC\n",
    "\n",
    "data_train, data_test, data_train_target, data_test_target = train_test_split(subj, target, test_size=0.7, random_state=0)\n",
    "scaler = preprocessing.StandardScaler().fit(data_train)\n",
    "X_train_scaled = scaler.transform(data_train)\n",
    "X_test_scaled = scaler.transform(data_test)\n",
    "\n",
    "svc = SVC(kernel='rbf')\n",
    "svc.fit(X_train_scaled,data_train_target)\n",
    "print(f'The Score for Training data with SVM Model for subject1:',svc.score(X_train_scaled,data_train_target))\n",
    "print(f'Score of For Test data with SVM Model for subject1 : {svc.score(X_test_scaled,data_test_target)}')"
   ]
  },
  {
   "cell_type": "code",
   "execution_count": 33,
   "metadata": {},
   "outputs": [
    {
     "data": {
      "text/plain": [
       "0.9335175571825052"
      ]
     },
     "execution_count": 33,
     "metadata": {},
     "output_type": "execute_result"
    }
   ],
   "source": [
    "#using subject 1 data\n",
    "from sklearn.decomposition import PCA\n",
    "data_train, data_test, data_train_target, data_test_target = train_test_split(subj1, target1, test_size=0.7, random_state=0)\n",
    "scaler = preprocessing.StandardScaler().fit(data_train)\n",
    "X_train_scaled = scaler.transform(data_train)\n",
    "X_test_scaled = scaler.transform(data_test)\n",
    "\n",
    "#PCA should be used on scaled data\n",
    "pca = PCA()\n",
    "pca.fit(X_train_scaled)\n",
    "X_train_pca = pca.transform(X_train_scaled)\n",
    "X_test_pca = pca.transform(X_test_scaled)\n",
    "var = pca.explained_variance_/pca.explained_variance_.sum()\n",
    "var[0:20].sum()"
   ]
  },
  {
   "cell_type": "code",
   "execution_count": 34,
   "metadata": {},
   "outputs": [
    {
     "data": {
      "text/plain": [
       "0.9324340867988502"
      ]
     },
     "execution_count": 34,
     "metadata": {},
     "output_type": "execute_result"
    }
   ],
   "source": [
    "#using all data\n",
    "from sklearn.decomposition import PCA\n",
    "data_train, data_test, data_train_target, data_test_target = train_test_split(subj, target, test_size=0.7, random_state=0)\n",
    "scaler = preprocessing.StandardScaler().fit(data_train)\n",
    "X_train_scaled = scaler.transform(data_train)\n",
    "X_test_scaled = scaler.transform(data_test)\n",
    "\n",
    "#PCA should be used on scaled data\n",
    "pca = PCA()\n",
    "pca.fit(X_train_scaled)\n",
    "X_train_pca = pca.transform(X_train_scaled)\n",
    "X_test_pca = pca.transform(X_test_scaled)\n",
    "var = pca.explained_variance_/pca.explained_variance_.sum()\n",
    "var[0:20].sum()"
   ]
  },
  {
   "cell_type": "code",
   "execution_count": 35,
   "metadata": {},
   "outputs": [
    {
     "data": {
      "text/html": [
       "<div>\n",
       "<style scoped>\n",
       "    .dataframe tbody tr th:only-of-type {\n",
       "        vertical-align: middle;\n",
       "    }\n",
       "\n",
       "    .dataframe tbody tr th {\n",
       "        vertical-align: top;\n",
       "    }\n",
       "\n",
       "    .dataframe thead th {\n",
       "        text-align: right;\n",
       "    }\n",
       "</style>\n",
       "<table border=\"1\" class=\"dataframe\">\n",
       "  <thead>\n",
       "    <tr style=\"text-align: right;\">\n",
       "      <th></th>\n",
       "      <th>F7_0.5</th>\n",
       "      <th>F7_1.0</th>\n",
       "      <th>F7_1.5</th>\n",
       "      <th>F7_2.0</th>\n",
       "      <th>F7_2.5</th>\n",
       "      <th>F7_3.0</th>\n",
       "      <th>F7_3.5</th>\n",
       "      <th>F7_4.0</th>\n",
       "      <th>F7_4.5</th>\n",
       "      <th>F7_5.0</th>\n",
       "      <th>...</th>\n",
       "      <th>AF4_13.5</th>\n",
       "      <th>AF4_14.0</th>\n",
       "      <th>AF4_14.5</th>\n",
       "      <th>AF4_15.0</th>\n",
       "      <th>AF4_15.5</th>\n",
       "      <th>AF4_16.0</th>\n",
       "      <th>AF4_16.5</th>\n",
       "      <th>AF4_17.0</th>\n",
       "      <th>AF4_17.5</th>\n",
       "      <th>AF4_18.0</th>\n",
       "    </tr>\n",
       "  </thead>\n",
       "  <tbody>\n",
       "    <tr>\n",
       "      <th>1</th>\n",
       "      <td>0.022816</td>\n",
       "      <td>0.023766</td>\n",
       "      <td>0.025675</td>\n",
       "      <td>0.029122</td>\n",
       "      <td>0.034951</td>\n",
       "      <td>0.040837</td>\n",
       "      <td>0.044614</td>\n",
       "      <td>0.048674</td>\n",
       "      <td>0.052720</td>\n",
       "      <td>0.056133</td>\n",
       "      <td>...</td>\n",
       "      <td>0.076070</td>\n",
       "      <td>0.071539</td>\n",
       "      <td>0.065134</td>\n",
       "      <td>0.058620</td>\n",
       "      <td>0.052929</td>\n",
       "      <td>0.047876</td>\n",
       "      <td>0.043528</td>\n",
       "      <td>0.040388</td>\n",
       "      <td>0.039157</td>\n",
       "      <td>0.039701</td>\n",
       "    </tr>\n",
       "    <tr>\n",
       "      <th>2</th>\n",
       "      <td>0.040783</td>\n",
       "      <td>0.041510</td>\n",
       "      <td>0.041762</td>\n",
       "      <td>0.040228</td>\n",
       "      <td>0.033235</td>\n",
       "      <td>0.021469</td>\n",
       "      <td>0.015346</td>\n",
       "      <td>0.008621</td>\n",
       "      <td>0.000313</td>\n",
       "      <td>-0.007368</td>\n",
       "      <td>...</td>\n",
       "      <td>-0.026773</td>\n",
       "      <td>-0.010833</td>\n",
       "      <td>0.009681</td>\n",
       "      <td>0.027572</td>\n",
       "      <td>0.037855</td>\n",
       "      <td>0.041952</td>\n",
       "      <td>0.042942</td>\n",
       "      <td>0.042671</td>\n",
       "      <td>0.041575</td>\n",
       "      <td>0.039375</td>\n",
       "    </tr>\n",
       "    <tr>\n",
       "      <th>3</th>\n",
       "      <td>0.116226</td>\n",
       "      <td>0.117410</td>\n",
       "      <td>0.118819</td>\n",
       "      <td>0.120041</td>\n",
       "      <td>0.118650</td>\n",
       "      <td>0.110947</td>\n",
       "      <td>0.108734</td>\n",
       "      <td>0.110740</td>\n",
       "      <td>0.113262</td>\n",
       "      <td>0.115509</td>\n",
       "      <td>...</td>\n",
       "      <td>-0.033493</td>\n",
       "      <td>-0.026927</td>\n",
       "      <td>-0.021924</td>\n",
       "      <td>-0.016793</td>\n",
       "      <td>-0.011050</td>\n",
       "      <td>-0.007083</td>\n",
       "      <td>-0.005920</td>\n",
       "      <td>-0.006001</td>\n",
       "      <td>-0.005659</td>\n",
       "      <td>-0.004060</td>\n",
       "    </tr>\n",
       "    <tr>\n",
       "      <th>4</th>\n",
       "      <td>0.008082</td>\n",
       "      <td>0.005178</td>\n",
       "      <td>-0.001397</td>\n",
       "      <td>-0.013880</td>\n",
       "      <td>-0.036144</td>\n",
       "      <td>-0.057653</td>\n",
       "      <td>-0.060295</td>\n",
       "      <td>-0.058996</td>\n",
       "      <td>-0.060054</td>\n",
       "      <td>-0.063940</td>\n",
       "      <td>...</td>\n",
       "      <td>0.084486</td>\n",
       "      <td>0.093112</td>\n",
       "      <td>0.099009</td>\n",
       "      <td>0.104706</td>\n",
       "      <td>0.112702</td>\n",
       "      <td>0.121357</td>\n",
       "      <td>0.128500</td>\n",
       "      <td>0.133634</td>\n",
       "      <td>0.135917</td>\n",
       "      <td>0.135191</td>\n",
       "    </tr>\n",
       "    <tr>\n",
       "      <th>5</th>\n",
       "      <td>0.142092</td>\n",
       "      <td>0.144317</td>\n",
       "      <td>0.146752</td>\n",
       "      <td>0.147362</td>\n",
       "      <td>0.141764</td>\n",
       "      <td>0.127473</td>\n",
       "      <td>0.116933</td>\n",
       "      <td>0.106320</td>\n",
       "      <td>0.095004</td>\n",
       "      <td>0.087405</td>\n",
       "      <td>...</td>\n",
       "      <td>0.029590</td>\n",
       "      <td>0.015831</td>\n",
       "      <td>0.000871</td>\n",
       "      <td>-0.013109</td>\n",
       "      <td>-0.024176</td>\n",
       "      <td>-0.029891</td>\n",
       "      <td>-0.031659</td>\n",
       "      <td>-0.033103</td>\n",
       "      <td>-0.035700</td>\n",
       "      <td>-0.038647</td>\n",
       "    </tr>\n",
       "    <tr>\n",
       "      <th>...</th>\n",
       "      <td>...</td>\n",
       "      <td>...</td>\n",
       "      <td>...</td>\n",
       "      <td>...</td>\n",
       "      <td>...</td>\n",
       "      <td>...</td>\n",
       "      <td>...</td>\n",
       "      <td>...</td>\n",
       "      <td>...</td>\n",
       "      <td>...</td>\n",
       "      <td>...</td>\n",
       "      <td>...</td>\n",
       "      <td>...</td>\n",
       "      <td>...</td>\n",
       "      <td>...</td>\n",
       "      <td>...</td>\n",
       "      <td>...</td>\n",
       "      <td>...</td>\n",
       "      <td>...</td>\n",
       "      <td>...</td>\n",
       "      <td>...</td>\n",
       "    </tr>\n",
       "    <tr>\n",
       "      <th>248</th>\n",
       "      <td>0.011198</td>\n",
       "      <td>-0.023058</td>\n",
       "      <td>0.016615</td>\n",
       "      <td>-0.006056</td>\n",
       "      <td>0.001499</td>\n",
       "      <td>0.000643</td>\n",
       "      <td>-0.004458</td>\n",
       "      <td>0.009581</td>\n",
       "      <td>-0.015933</td>\n",
       "      <td>0.020045</td>\n",
       "      <td>...</td>\n",
       "      <td>0.018301</td>\n",
       "      <td>-0.012047</td>\n",
       "      <td>0.008568</td>\n",
       "      <td>-0.007277</td>\n",
       "      <td>0.007423</td>\n",
       "      <td>-0.007319</td>\n",
       "      <td>0.006262</td>\n",
       "      <td>-0.004365</td>\n",
       "      <td>0.002580</td>\n",
       "      <td>-0.001014</td>\n",
       "    </tr>\n",
       "    <tr>\n",
       "      <th>249</th>\n",
       "      <td>-0.007942</td>\n",
       "      <td>0.016551</td>\n",
       "      <td>-0.013135</td>\n",
       "      <td>0.007033</td>\n",
       "      <td>-0.003773</td>\n",
       "      <td>0.002433</td>\n",
       "      <td>-0.003808</td>\n",
       "      <td>0.008491</td>\n",
       "      <td>-0.014600</td>\n",
       "      <td>0.020045</td>\n",
       "      <td>...</td>\n",
       "      <td>0.031564</td>\n",
       "      <td>-0.018601</td>\n",
       "      <td>0.011433</td>\n",
       "      <td>-0.007217</td>\n",
       "      <td>0.004953</td>\n",
       "      <td>-0.003899</td>\n",
       "      <td>0.002721</td>\n",
       "      <td>-0.001538</td>\n",
       "      <td>0.001130</td>\n",
       "      <td>-0.000615</td>\n",
       "    </tr>\n",
       "    <tr>\n",
       "      <th>250</th>\n",
       "      <td>0.008005</td>\n",
       "      <td>-0.018051</td>\n",
       "      <td>0.014892</td>\n",
       "      <td>-0.006890</td>\n",
       "      <td>0.003564</td>\n",
       "      <td>-0.002985</td>\n",
       "      <td>0.003378</td>\n",
       "      <td>-0.006157</td>\n",
       "      <td>0.011490</td>\n",
       "      <td>-0.016456</td>\n",
       "      <td>...</td>\n",
       "      <td>-0.013207</td>\n",
       "      <td>0.009247</td>\n",
       "      <td>-0.006513</td>\n",
       "      <td>0.005442</td>\n",
       "      <td>-0.005561</td>\n",
       "      <td>0.005367</td>\n",
       "      <td>-0.003967</td>\n",
       "      <td>0.001596</td>\n",
       "      <td>0.000051</td>\n",
       "      <td>-0.000263</td>\n",
       "    </tr>\n",
       "    <tr>\n",
       "      <th>251</th>\n",
       "      <td>-0.003073</td>\n",
       "      <td>0.007604</td>\n",
       "      <td>-0.007018</td>\n",
       "      <td>0.003746</td>\n",
       "      <td>-0.002205</td>\n",
       "      <td>0.003179</td>\n",
       "      <td>-0.005943</td>\n",
       "      <td>0.010302</td>\n",
       "      <td>-0.015327</td>\n",
       "      <td>0.018337</td>\n",
       "      <td>...</td>\n",
       "      <td>0.006584</td>\n",
       "      <td>-0.005215</td>\n",
       "      <td>0.003028</td>\n",
       "      <td>0.000422</td>\n",
       "      <td>-0.003657</td>\n",
       "      <td>0.004403</td>\n",
       "      <td>-0.003080</td>\n",
       "      <td>0.001511</td>\n",
       "      <td>-0.000655</td>\n",
       "      <td>0.000165</td>\n",
       "    </tr>\n",
       "    <tr>\n",
       "      <th>252</th>\n",
       "      <td>0.001125</td>\n",
       "      <td>-0.002657</td>\n",
       "      <td>0.001689</td>\n",
       "      <td>0.000148</td>\n",
       "      <td>-0.000626</td>\n",
       "      <td>0.000451</td>\n",
       "      <td>-0.000310</td>\n",
       "      <td>0.000094</td>\n",
       "      <td>0.000159</td>\n",
       "      <td>-0.000477</td>\n",
       "      <td>...</td>\n",
       "      <td>0.004058</td>\n",
       "      <td>-0.003512</td>\n",
       "      <td>0.002737</td>\n",
       "      <td>-0.002061</td>\n",
       "      <td>0.001517</td>\n",
       "      <td>-0.000829</td>\n",
       "      <td>-0.000094</td>\n",
       "      <td>0.000875</td>\n",
       "      <td>-0.000918</td>\n",
       "      <td>0.000370</td>\n",
       "    </tr>\n",
       "  </tbody>\n",
       "</table>\n",
       "<p>252 rows × 252 columns</p>\n",
       "</div>"
      ],
      "text/plain": [
       "       F7_0.5    F7_1.0    F7_1.5    F7_2.0    F7_2.5    F7_3.0    F7_3.5  \\\n",
       "1    0.022816  0.023766  0.025675  0.029122  0.034951  0.040837  0.044614   \n",
       "2    0.040783  0.041510  0.041762  0.040228  0.033235  0.021469  0.015346   \n",
       "3    0.116226  0.117410  0.118819  0.120041  0.118650  0.110947  0.108734   \n",
       "4    0.008082  0.005178 -0.001397 -0.013880 -0.036144 -0.057653 -0.060295   \n",
       "5    0.142092  0.144317  0.146752  0.147362  0.141764  0.127473  0.116933   \n",
       "..        ...       ...       ...       ...       ...       ...       ...   \n",
       "248  0.011198 -0.023058  0.016615 -0.006056  0.001499  0.000643 -0.004458   \n",
       "249 -0.007942  0.016551 -0.013135  0.007033 -0.003773  0.002433 -0.003808   \n",
       "250  0.008005 -0.018051  0.014892 -0.006890  0.003564 -0.002985  0.003378   \n",
       "251 -0.003073  0.007604 -0.007018  0.003746 -0.002205  0.003179 -0.005943   \n",
       "252  0.001125 -0.002657  0.001689  0.000148 -0.000626  0.000451 -0.000310   \n",
       "\n",
       "       F7_4.0    F7_4.5    F7_5.0  ...  AF4_13.5  AF4_14.0  AF4_14.5  \\\n",
       "1    0.048674  0.052720  0.056133  ...  0.076070  0.071539  0.065134   \n",
       "2    0.008621  0.000313 -0.007368  ... -0.026773 -0.010833  0.009681   \n",
       "3    0.110740  0.113262  0.115509  ... -0.033493 -0.026927 -0.021924   \n",
       "4   -0.058996 -0.060054 -0.063940  ...  0.084486  0.093112  0.099009   \n",
       "5    0.106320  0.095004  0.087405  ...  0.029590  0.015831  0.000871   \n",
       "..        ...       ...       ...  ...       ...       ...       ...   \n",
       "248  0.009581 -0.015933  0.020045  ...  0.018301 -0.012047  0.008568   \n",
       "249  0.008491 -0.014600  0.020045  ...  0.031564 -0.018601  0.011433   \n",
       "250 -0.006157  0.011490 -0.016456  ... -0.013207  0.009247 -0.006513   \n",
       "251  0.010302 -0.015327  0.018337  ...  0.006584 -0.005215  0.003028   \n",
       "252  0.000094  0.000159 -0.000477  ...  0.004058 -0.003512  0.002737   \n",
       "\n",
       "     AF4_15.0  AF4_15.5  AF4_16.0  AF4_16.5  AF4_17.0  AF4_17.5  AF4_18.0  \n",
       "1    0.058620  0.052929  0.047876  0.043528  0.040388  0.039157  0.039701  \n",
       "2    0.027572  0.037855  0.041952  0.042942  0.042671  0.041575  0.039375  \n",
       "3   -0.016793 -0.011050 -0.007083 -0.005920 -0.006001 -0.005659 -0.004060  \n",
       "4    0.104706  0.112702  0.121357  0.128500  0.133634  0.135917  0.135191  \n",
       "5   -0.013109 -0.024176 -0.029891 -0.031659 -0.033103 -0.035700 -0.038647  \n",
       "..        ...       ...       ...       ...       ...       ...       ...  \n",
       "248 -0.007277  0.007423 -0.007319  0.006262 -0.004365  0.002580 -0.001014  \n",
       "249 -0.007217  0.004953 -0.003899  0.002721 -0.001538  0.001130 -0.000615  \n",
       "250  0.005442 -0.005561  0.005367 -0.003967  0.001596  0.000051 -0.000263  \n",
       "251  0.000422 -0.003657  0.004403 -0.003080  0.001511 -0.000655  0.000165  \n",
       "252 -0.002061  0.001517 -0.000829 -0.000094  0.000875 -0.000918  0.000370  \n",
       "\n",
       "[252 rows x 252 columns]"
      ]
     },
     "execution_count": 35,
     "metadata": {},
     "output_type": "execute_result"
    }
   ],
   "source": [
    "import seaborn as sns\n",
    "#sns.heatmap(pca.components_)\n",
    "#print(sum(pca.components_[:,0]**2))\n",
    "\n",
    "pca_map=pd.DataFrame(pca.components_,columns=feature_names,index=np.arange(1,253))\n",
    "#pca.components_.shape\n",
    "pca_map"
   ]
  },
  {
   "cell_type": "code",
   "execution_count": 37,
   "metadata": {},
   "outputs": [
    {
     "name": "stdout",
     "output_type": "stream",
     "text": [
      "The Score for Training data with SVM Linear Model for all subjects: 0.7420357420357421\n",
      "Score of For Test data with SVM Linear Model for all subjects : 0.7152107152107152\n"
     ]
    }
   ],
   "source": [
    "#USE SVM linear model\n",
    "svc = SVC(kernel='linear')\n",
    "svc.fit(X_train_scaled,data_train_target)\n",
    "print(f'The Score for Training data with SVM Linear Model for all subjects:',svc.score(X_train_scaled,data_train_target))\n",
    "print(f'Score of For Test data with SVM Linear Model for all subjects : {svc.score(X_test_scaled,data_test_target)}')"
   ]
  },
  {
   "cell_type": "code",
   "execution_count": 40,
   "metadata": {},
   "outputs": [
    {
     "name": "stdout",
     "output_type": "stream",
     "text": [
      "The Score for Training data with SVM Linear Model for all subjects: 0.9327462660795994\n",
      "Score of For Test data with SVM Linear Model for all subjects : 0.9058349058349059\n"
     ]
    }
   ],
   "source": [
    "#USE SVM linear model\n",
    "svc = SVC(kernel='rbf')\n",
    "svc.fit(X_train_scaled,data_train_target)\n",
    "print(f'The Score for Training data with SVM Linear Model for all subjects:',svc.score(X_train_scaled,data_train_target))\n",
    "print(f'Score of For Test data with SVM Linear Model for all subjects : {svc.score(X_test_scaled,data_test_target)}')"
   ]
  },
  {
   "cell_type": "code",
   "execution_count": 38,
   "metadata": {},
   "outputs": [
    {
     "name": "stdout",
     "output_type": "stream",
     "text": [
      "the score for training with data from 5 participants: 0.9952516619183286\n",
      "the score for test data from 5 participants: 0.9748399748399749\n"
     ]
    }
   ],
   "source": [
    "#Try KNN Model\n",
    "from sklearn.neighbors import KNeighborsClassifier\n",
    "neighbor = KNeighborsClassifier(n_neighbors=3)\n",
    "neighbor.fit(X_train_scaled,data_train_target)\n",
    "print(\"the score for training with data from 5 participants:\",neighbor.score(X_train_scaled,data_train_target))\n",
    "print(\"the score for test data from 5 participants:\",neighbor.score(X_test_scaled,data_test_target))"
   ]
  },
  {
   "cell_type": "code",
   "execution_count": 43,
   "metadata": {},
   "outputs": [
    {
     "name": "stdout",
     "output_type": "stream",
     "text": [
      "the score for training with data from 5 participants:0.9148752482085816\n",
      "the score for test data from 5 participants: 0.7855107855107855\n"
     ]
    }
   ],
   "source": [
    "# decision trees\n",
    "from sklearn.tree import DecisionTreeClassifier\n",
    "dt = DecisionTreeClassifier(max_depth=12)\n",
    "dt.fit(X_train_scaled,data_train_target)\n",
    "print(f\"the score for training with data from 5 participants:{dt.score(X_train_scaled,data_train_target)}\")\n",
    "print(\"the score for test data from 5 participants:\",dt.score(X_test_scaled,data_test_target))"
   ]
  },
  {
   "cell_type": "code",
   "execution_count": 44,
   "metadata": {},
   "outputs": [
    {
     "data": {
      "image/png": "[encoded data removed]",
      "text/plain": [
       "<Figure size 640x480 with 1 Axes>"
      ]
     },
     "metadata": {},
     "output_type": "display_data"
    }
   ],
   "source": [
    "from sklearn.ensemble import RandomForestClassifier\n",
    "\n",
    "train_scores = []\n",
    "test_scores = []\n",
    "for depth in range(1,35):\n",
    "    dt_reg = RandomForestClassifier(max_depth=depth,random_state=0)\n",
    "    dt_reg.fit(X_train_scaled,data_train_target)\n",
    "    train_scores = train_scores +[dt_reg.score(X_train_scaled,data_train_target)]\n",
    "    test_scores = test_scores + [dt_reg.score(X_test_scaled,data_test_target)]\n",
    "    \n",
    "x = list(range(1,35))\n",
    "plt.plot(x,train_scores,c='r',label='train')\n",
    "plt.plot(x,test_scores,c='b',label='test')\n",
    "plt.xlabel('depth')\n",
    "plt.ylabel('accuracy')\n",
    "plt.title('Depth vs. Accuracy for Random Forest Classifier')\n",
    "plt.show()"
   ]
  },
  {
   "cell_type": "markdown",
   "metadata": {},
   "source": [
    "### After PCA\n"
   ]
  },
  {
   "cell_type": "code",
   "execution_count": 45,
   "metadata": {},
   "outputs": [
    {
     "name": "stdout",
     "output_type": "stream",
     "text": [
      "The Score for Training data with SVM RBF Model for all subjects: 0.8991625658292325\n",
      "Score of For Test data with SVM RBF Model for all subjects : 0.8756798756798757\n"
     ]
    }
   ],
   "source": [
    "svc = SVC(kernel='rbf')\n",
    "svc.fit(X_train_pca[:,0:30],data_train_target)\n",
    "print(f'The Score for Training data with SVM RBF Model for all subjects:',svc.score(X_train_pca[:,0:30],data_train_target))\n",
    "print(f'Score of For Test data with SVM RBF Model for all subjects : {svc.score(X_test_pca[:,0:30],data_test_target)}')"
   ]
  },
  {
   "cell_type": "code",
   "execution_count": 46,
   "metadata": {},
   "outputs": [
    {
     "name": "stdout",
     "output_type": "stream",
     "text": [
      "The Score for Training data with SVM RBF Model for all subjects: 0.6604506604506605\n",
      "Score of For Test data with SVM RBF Model for all subjects : 0.6631146631146632\n"
     ]
    }
   ],
   "source": [
    "svc = SVC(kernel='linear')\n",
    "svc.fit(X_train_pca[:,0:30],data_train_target)\n",
    "print(f'The Score for Training data with SVM RBF Model for all subjects:',svc.score(X_train_pca[:,0:30],data_train_target))\n",
    "print(f'Score of For Test data with SVM RBF Model for all subjects : {svc.score(X_test_pca[:,0:30],data_test_target)}')"
   ]
  },
  {
   "cell_type": "code",
   "execution_count": 47,
   "metadata": {},
   "outputs": [
    {
     "name": "stdout",
     "output_type": "stream",
     "text": [
      "the score for training with data from 5 participants: 0.991625658292325\n",
      "the score for test data from 5 participants: 0.9633699633699634\n"
     ]
    }
   ],
   "source": [
    "#KNN after PCA\n",
    "neighbor.fit(X_train_pca[:,0:30],data_train_target)\n",
    "print(\"the score for training with data from 5 participants:\",neighbor.score(X_train_pca[:,0:30],data_train_target))\n",
    "print(\"the score for test data from 5 participants:\",neighbor.score(X_test_pca[:,0:30],data_test_target))"
   ]
  },
  {
   "cell_type": "markdown",
   "metadata": {},
   "source": [
    "### Validation"
   ]
  },
  {
   "cell_type": "code",
   "execution_count": 48,
   "metadata": {},
   "outputs": [
    {
     "name": "stdout",
     "output_type": "stream",
     "text": [
      "Score for 1 Fold Training: 0.929\n",
      "Score for 1 Fold cv    : 0.901\n",
      "----------------------------------\n",
      "Score for 2 Fold Training: 0.922\n",
      "Score for 2 Fold cv    : 0.909\n",
      "----------------------------------\n",
      "Score for 3 Fold Training: 0.927\n",
      "Score for 3 Fold cv    : 0.899\n",
      "----------------------------------\n",
      "Score for 4 Fold Training: 0.923\n",
      "Score for 4 Fold cv    : 0.905\n",
      "----------------------------------\n",
      "Score for 5 Fold Training: 0.925\n",
      "Score for 5 Fold cv    : 0.905\n",
      "----------------------------------\n",
      "Score of Average For Training: 0.925\n",
      "Score of Average For CV.     : 0.903\n"
     ]
    }
   ],
   "source": [
    "# 5 fold validation\n",
    "from sklearn.model_selection import KFold\n",
    "import tensorflow as tf\n",
    "tf.random.set_seed(0)\n",
    "kfold = KFold(n_splits=5, shuffle=True)\n",
    "\n",
    "data_train_target=data_train_target\n",
    "\n",
    "fold_no = 1\n",
    "\n",
    "score_tr=[]\n",
    "score_cv=[]\n",
    "\n",
    "svm = SVC(kernel='rbf')\n",
    "\n",
    "for train,cv in kfold.split(X_train_scaled,data_train_target):\n",
    "    X_tr = X_train_scaled[train]\n",
    "    Y_tr = data_train_target[train]\n",
    "    X_cv = X_train_scaled[cv]\n",
    "    Y_cv = data_train_target[cv]\n",
    "    \n",
    "    tf.random.set_seed(0)\n",
    "    \n",
    "    svm.fit(X_tr,Y_tr)\n",
    "    score_tr.append(svm.score(X_tr,Y_tr))\n",
    "    score_cv.append(svm.score(X_cv,Y_cv))\n",
    "    \n",
    "    print(f'Score for {fold_no} Fold Training: {score_tr[-1]:.3f}')\n",
    "    print(f'Score for {fold_no} Fold cv    : {score_cv[-1]:.3f}')\n",
    "    print('----------------------------------')\n",
    "    fold_no = fold_no + 1\n",
    "    \n",
    "print(f'Score of Average For Training: {np.mean(score_tr):.3f}')\n",
    "print(f'Score of Average For CV.     : {np.mean(score_cv):.3f}')"
   ]
  },
  {
   "cell_type": "markdown",
   "metadata": {},
   "source": [
    "## Recurrence plots\n"
   ]
  },
  {
   "cell_type": "markdown",
   "metadata": {},
   "source": [
    "- 3 states, 22 records, 585 seconds = 38,610 images total\n",
    "- 12,870 images each state"
   ]
  },
  {
   "cell_type": "code",
   "execution_count": 15,
   "metadata": {},
   "outputs": [
    {
     "data": {
      "image/png": "[encoded data removed]",
      "text/plain": [
       "<Figure size 640x480 with 2 Axes>"
      ]
     },
     "metadata": {},
     "output_type": "display_data"
    }
   ],
   "source": [
    "from __future__ import division, print_function\n",
    "import numpy as np\n",
    "import pylab as plt\n",
    "from scipy.spatial.distance import pdist, squareform\n",
    "\n",
    "def rec_plot(s, eps=0.10, steps=10):\n",
    "    d = pdist(s[:,None])\n",
    "    d = np.floor(d/eps)\n",
    "    d[d>steps] = steps\n",
    "    Z = squareform(d)\n",
    "    return Z\n",
    "\n",
    "def moving_average(s, r=5):\n",
    "    return np.convolve(s, np.ones((r,))/r, mode='valid')\n",
    "\n",
    "if __name__ == \"__main__\":\n",
    "    # Generate singal\n",
    "    N = 200\n",
    "    eps = 0.1\n",
    "    steps = 10\n",
    "\n",
    "\n",
    "    rn = svm_unfocus['eeg_record10'][:,100]\n",
    "    plt.subplot(222)\n",
    "    plt.plot(rn)\n",
    "    plt.title(\"Normal\")\n",
    "    plt.subplot(224)\n",
    "    plt.imshow(rec_plot(rn, eps=eps, steps=steps))\n",
    "    plt.show()"
   ]
  },
  {
   "cell_type": "code",
   "execution_count": null,
   "metadata": {},
   "outputs": [],
   "source": [
    "from __future__ import division, print_function\n",
    "import numpy as np\n",
    "import pylab as plt\n",
    "from scipy.spatial.distance import pdist, squareform\n",
    "import contextlib\n",
    "\n",
    "def rec_plot(s, eps=0.10, steps=10):\n",
    "    d = pdist(s[:,None])\n",
    "    d = np.floor(d/eps)\n",
    "    d[d>steps] = steps\n",
    "    Z = squareform(d)\n",
    "    return Z\n",
    "\n",
    "def moving_average(s, r=5):\n",
    "    return np.convolve(s, np.ones((r,))/r, mode='valid')\n",
    "\n",
    "if __name__ == \"__main__\":\n",
    "    # Generate singal\n",
    "    N = 200\n",
    "    eps = 0.1\n",
    "    steps = 10\n",
    "    for name in trail_names:\n",
    "        for sec in range(585):\n",
    "            rn = svm_focus[name][:,sec]\n",
    "            plt.figure(figsize=(3,3), dpi=200)\n",
    "            plt.imshow(rec_plot(rn, eps=eps, steps=steps))\n",
    "            plt.savefig(\"dataset/focus/\"+name+\"_plot\"+str(sec)+\".png\")"
   ]
  }
 ],
 "metadata": {
  "kernelspec": {
   "display_name": "Python 3",
   "language": "python",
   "name": "python3"
  },
  "language_info": {
   "codemirror_mode": {
    "name": "ipython",
    "version": 3
   },
   "file_extension": ".py",
   "mimetype": "text/x-python",
   "name": "python",
   "nbconvert_exporter": "python",
   "pygments_lexer": "ipython3",
   "version": "3.11.3"
  }
 },
 "nbformat": 4,
 "nbformat_minor": 2
}
