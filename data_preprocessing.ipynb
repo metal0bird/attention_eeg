{
 "cells": [
  {
   "cell_type": "code",
   "execution_count": null,
   "metadata": {},
   "outputs": [],
   "source": [
    "import numpy as np # linear algebra\n",
    "import pandas as pd # data processing\n",
    "import scipy.io\n",
    "import matplotlib.pyplot as plt\n",
    "import os\n",
    "from scipy import signal\n",
    "from scipy.fft import fft, fftshift\n",
    "\n",
    "file_names=[]\n",
    "for dirname, _, filenames in os.walk('/Users/aman/Github bs/datasets/EEG Data/'):\n",
    "    for filename in filenames:\n",
    "        file_names.append(os.path.join(dirname, filename))\n",
    "        #print(os.path.join(dirname, filename))\n",
    "        \n",
    "print(file_names)\n",
    "\n",
    "# each trial is about 54 mins\n"
   ]
  }
 ],
 "metadata": {
  "language_info": {
   "name": "python"
  }
 },
 "nbformat": 4,
 "nbformat_minor": 2
}
